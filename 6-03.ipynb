{
 "metadata": {
  "language_info": {
   "codemirror_mode": {
    "name": "ipython",
    "version": 3
   },
   "file_extension": ".py",
   "mimetype": "text/x-python",
   "name": "python",
   "nbconvert_exporter": "python",
   "pygments_lexer": "ipython3",
   "version": "3.8.2-final"
  },
  "orig_nbformat": 2,
  "kernelspec": {
   "name": "python_defaultSpec_1598147926523",
   "display_name": "Python 3.8.2 32-bit"
  }
 },
 "nbformat": 4,
 "nbformat_minor": 2,
 "cells": [
  {
   "cell_type": "code",
   "execution_count": 1,
   "metadata": {},
   "outputs": [],
   "source": [
    "class Nigiri:\n",
    "    category = \"にぎり\"\n",
    "    top = \"ねた\"\n",
    "    base = \"しゃり\"\n",
    "\n",
    "    def show_attributes(self):\n",
    "        print(\"top: {},base: {},category: {}\".format(self.top,self.base,self.category))"
   ]
  },
  {
   "cell_type": "code",
   "execution_count": 2,
   "metadata": {
    "tags": []
   },
   "outputs": [
    {
     "output_type": "stream",
     "name": "stdout",
     "text": "top: ねた,base: しゃり,category: にぎり\n"
    }
   ],
   "source": [
    "n1 = Nigiri()\n",
    "n1.show_attributes()"
   ]
  },
  {
   "cell_type": "code",
   "execution_count": 3,
   "metadata": {},
   "outputs": [],
   "source": [
    "class Maguro(Nigiri):\n",
    "    pass"
   ]
  },
  {
   "cell_type": "code",
   "execution_count": 4,
   "metadata": {
    "tags": []
   },
   "outputs": [
    {
     "output_type": "stream",
     "name": "stdout",
     "text": "top: ねた,base: しゃり,category: にぎり\n"
    }
   ],
   "source": [
    "m1 = Maguro()\n",
    "m1.show_attributes()"
   ]
  },
  {
   "cell_type": "code",
   "execution_count": 5,
   "metadata": {
    "tags": []
   },
   "outputs": [
    {
     "output_type": "stream",
     "name": "stdout",
     "text": "top: まぐろ,base: しゃり,category: にぎり\n"
    }
   ],
   "source": [
    "class Maguro(Nigiri):\n",
    "    top = \"まぐろ\"\n",
    "\n",
    "m3 = Maguro()\n",
    "m3.show_attributes()"
   ]
  },
  {
   "cell_type": "code",
   "execution_count": 6,
   "metadata": {
    "tags": []
   },
   "outputs": [
    {
     "output_type": "stream",
     "name": "stdout",
     "text": "top: まぐろ,base: しゃり,category: にぎり\n"
    }
   ],
   "source": [
    "class Maguro(Nigiri):\n",
    "    top = \"まぐろ\"\n",
    "    price = 100\n",
    "m4 = Maguro()\n",
    "m4.show_attributes()"
   ]
  },
  {
   "cell_type": "code",
   "execution_count": 7,
   "metadata": {
    "tags": []
   },
   "outputs": [
    {
     "output_type": "stream",
     "name": "stdout",
     "text": "base: しゃり,top: まぐろ\nprice: 100円\n"
    }
   ],
   "source": [
    "class Maguro(Nigiri):\n",
    "    top = \"まぐろ\"\n",
    "    price = 100\n",
    "\n",
    "    def show_attributes(self):\n",
    "        print(\"base: {},top: {}\".format(self.base, self.top))\n",
    "        print(\"price: {}円\".format(self.price))\n",
    "\n",
    "m4 = Maguro()\n",
    "m4.show_attributes()"
   ]
  },
  {
   "cell_type": "code",
   "execution_count": 9,
   "metadata": {
    "tags": []
   },
   "outputs": [
    {
     "output_type": "stream",
     "name": "stdout",
     "text": "top: まぐろ,base: しゃり,category: にぎり\n1皿(2かん)の値段: 200円\n"
    }
   ],
   "source": [
    "class Maguro(Nigiri):\n",
    "    top = \"まぐろ\"\n",
    "    price = 100\n",
    "\n",
    "    def show_attributes(self):\n",
    "        super().show_attributes()\n",
    "\n",
    "    def show_one_dish_price(self, num_nigiri=2):\n",
    "        result = self.price * num_nigiri\n",
    "        print(\"1皿({}かん)の値段: {}円\".format(num_nigiri,result))\n",
    "\n",
    "m5 = Maguro()\n",
    "m5.show_attributes()\n",
    "m5.show_one_dish_price()"
   ]
  },
  {
   "cell_type": "code",
   "execution_count": 10,
   "metadata": {
    "tags": []
   },
   "outputs": [
    {
     "output_type": "stream",
     "name": "stdout",
     "text": "top: まぐろ,base: しゃり,category: にぎり\nprice: 100円\n"
    }
   ],
   "source": [
    "class Maguro(Nigiri):\n",
    "    top = \"まぐろ\"\n",
    "    price = 100\n",
    "\n",
    "    def show_attributes(self):\n",
    "        super().show_attributes()\n",
    "        print(\"price: {}円\".format(self.price))\n",
    "\n",
    "\n",
    "m5 = Maguro()\n",
    "m5.show_attributes()"
   ]
  },
  {
   "cell_type": "code",
   "execution_count": 12,
   "metadata": {
    "tags": []
   },
   "outputs": [
    {
     "output_type": "stream",
     "name": "stdout",
     "text": "top: まぐろ,base: しゃり,category: にぎり\n1皿(2かん)の値段:200円\n"
    }
   ],
   "source": [
    "class Maguro(Nigiri):\n",
    "    top = \"まぐろ\"\n",
    "    price = 100\n",
    "\n",
    "    def show_attributes(self):\n",
    "        super().show_attributes()\n",
    "\n",
    "    def show_one_dish_price(self, num_nigiri=2):\n",
    "        result = self.price * num_nigiri\n",
    "        print(\"1皿({}かん)の値段:{}円\".format(num_nigiri,result))\n",
    "\n",
    "m5 = Maguro()\n",
    "m5.show_attributes()\n",
    "m5.show_one_dish_price()"
   ]
  },
  {
   "cell_type": "code",
   "execution_count": 13,
   "metadata": {},
   "outputs": [],
   "source": [
    "class NigiriNew(Nigiri):\n",
    "\n",
    "    def __init__(self,wasabi=\"ワサビ抜き\"):\n",
    "        self.wasabi = wasabi\n",
    "\n",
    "    def show_attributes(self):\n",
    "        super().show_attributes()\n",
    "        print(\"wasabi: {}\".format(self,wasabi))"
   ]
  },
  {
   "cell_type": "code",
   "execution_count": 14,
   "metadata": {
    "tags": []
   },
   "outputs": [
    {
     "output_type": "stream",
     "name": "stdout",
     "text": "top: まぐろ,base: しゃり,category: にぎり\n"
    },
    {
     "output_type": "error",
     "ename": "NameError",
     "evalue": "name 'wasabi' is not defined",
     "traceback": [
      "\u001b[1;31m---------------------------------------------------------------------------\u001b[0m",
      "\u001b[1;31mNameError\u001b[0m                                 Traceback (most recent call last)",
      "\u001b[1;32m<ipython-input-14-ba605d9f0c4f>\u001b[0m in \u001b[0;36m<module>\u001b[1;34m\u001b[0m\n\u001b[0;32m      8\u001b[0m \u001b[1;33m\u001b[0m\u001b[0m\n\u001b[0;32m      9\u001b[0m \u001b[0mm6\u001b[0m \u001b[1;33m=\u001b[0m \u001b[0mMaguro\u001b[0m\u001b[1;33m(\u001b[0m\u001b[1;34m\"ワサビ入り\"\u001b[0m\u001b[1;33m)\u001b[0m\u001b[1;33m\u001b[0m\u001b[1;33m\u001b[0m\u001b[0m\n\u001b[1;32m---> 10\u001b[1;33m \u001b[0mm6\u001b[0m\u001b[1;33m.\u001b[0m\u001b[0mshow_attributes\u001b[0m\u001b[1;33m(\u001b[0m\u001b[1;33m)\u001b[0m\u001b[1;33m\u001b[0m\u001b[1;33m\u001b[0m\u001b[0m\n\u001b[0m",
      "\u001b[1;32m<ipython-input-14-ba605d9f0c4f>\u001b[0m in \u001b[0;36mshow_attributes\u001b[1;34m(self)\u001b[0m\n\u001b[0;32m      4\u001b[0m \u001b[1;33m\u001b[0m\u001b[0m\n\u001b[0;32m      5\u001b[0m     \u001b[1;32mdef\u001b[0m \u001b[0mshow_attributes\u001b[0m\u001b[1;33m(\u001b[0m\u001b[0mself\u001b[0m\u001b[1;33m)\u001b[0m\u001b[1;33m:\u001b[0m\u001b[1;33m\u001b[0m\u001b[1;33m\u001b[0m\u001b[0m\n\u001b[1;32m----> 6\u001b[1;33m         \u001b[0msuper\u001b[0m\u001b[1;33m(\u001b[0m\u001b[1;33m)\u001b[0m\u001b[1;33m.\u001b[0m\u001b[0mshow_attributes\u001b[0m\u001b[1;33m(\u001b[0m\u001b[1;33m)\u001b[0m\u001b[1;33m\u001b[0m\u001b[1;33m\u001b[0m\u001b[0m\n\u001b[0m\u001b[0;32m      7\u001b[0m         \u001b[0mprint\u001b[0m\u001b[1;33m(\u001b[0m\u001b[1;34m\"price: {}円\"\u001b[0m\u001b[1;33m.\u001b[0m\u001b[0mformat\u001b[0m\u001b[1;33m(\u001b[0m\u001b[0mself\u001b[0m\u001b[1;33m.\u001b[0m\u001b[0mprice\u001b[0m\u001b[1;33m)\u001b[0m\u001b[1;33m)\u001b[0m\u001b[1;33m\u001b[0m\u001b[1;33m\u001b[0m\u001b[0m\n\u001b[0;32m      8\u001b[0m \u001b[1;33m\u001b[0m\u001b[0m\n",
      "\u001b[1;32m<ipython-input-13-dea985ffcd36>\u001b[0m in \u001b[0;36mshow_attributes\u001b[1;34m(self)\u001b[0m\n\u001b[0;32m      6\u001b[0m     \u001b[1;32mdef\u001b[0m \u001b[0mshow_attributes\u001b[0m\u001b[1;33m(\u001b[0m\u001b[0mself\u001b[0m\u001b[1;33m)\u001b[0m\u001b[1;33m:\u001b[0m\u001b[1;33m\u001b[0m\u001b[1;33m\u001b[0m\u001b[0m\n\u001b[0;32m      7\u001b[0m         \u001b[0msuper\u001b[0m\u001b[1;33m(\u001b[0m\u001b[1;33m)\u001b[0m\u001b[1;33m.\u001b[0m\u001b[0mshow_attributes\u001b[0m\u001b[1;33m(\u001b[0m\u001b[1;33m)\u001b[0m\u001b[1;33m\u001b[0m\u001b[1;33m\u001b[0m\u001b[0m\n\u001b[1;32m----> 8\u001b[1;33m         \u001b[0mprint\u001b[0m\u001b[1;33m(\u001b[0m\u001b[1;34m\"wasabi: {}\"\u001b[0m\u001b[1;33m.\u001b[0m\u001b[0mformat\u001b[0m\u001b[1;33m(\u001b[0m\u001b[0mself\u001b[0m\u001b[1;33m,\u001b[0m\u001b[0mwasabi\u001b[0m\u001b[1;33m)\u001b[0m\u001b[1;33m)\u001b[0m\u001b[1;33m\u001b[0m\u001b[1;33m\u001b[0m\u001b[0m\n\u001b[0m",
      "\u001b[1;31mNameError\u001b[0m: name 'wasabi' is not defined"
     ]
    }
   ],
   "source": [
    "class Maguro(NigiriNew):\n",
    "    top = \"まぐろ\"\n",
    "    price = 100\n",
    "\n",
    "    def show_attributes(self):\n",
    "        super().show_attributes()\n",
    "        print(\"price: {}円\".format(self.price))\n",
    "\n",
    "m6 = Maguro(\"ワサビ入り\")\n",
    "m6.show_attributes()"
   ]
  },
  {
   "cell_type": "code",
   "execution_count": 15,
   "metadata": {
    "tags": []
   },
   "outputs": [
    {
     "output_type": "stream",
     "name": "stdout",
     "text": "Musician リズム・メロディー・ハーモニー\nコードを書く\n楽器を演奏する\n"
    }
   ],
   "source": [
    "class Programmer:\n",
    "    def __init__(self):\n",
    "        self.skill = \"プログラミング\"\n",
    "        print('Programmer',self.skill)\n",
    "\n",
    "    def make_code(self):\n",
    "        print(\"コードを書く\")\n",
    "\n",
    "class Musician:\n",
    "    def __init__(self):\n",
    "        self.skill = \"リズム・メロディー・ハーモニー\"\n",
    "        print('Musician',self.skill)\n",
    "\n",
    "    def play_instrument(self):\n",
    "        print(\"楽器を演奏する\")\n",
    "\n",
    "class MusicianProgrammer(Musician,Programmer):\n",
    "    pass\n",
    "\n",
    "\n",
    "mp1 = MusicianProgrammer()\n",
    "mp1.make_code()\n",
    "mp1.play_instrument()"
   ]
  },
  {
   "cell_type": "code",
   "execution_count": 16,
   "metadata": {
    "tags": []
   },
   "outputs": [
    {
     "output_type": "stream",
     "name": "stdout",
     "text": "Programmer プログラミング\nコードを書く\n楽器を演奏する\n"
    }
   ],
   "source": [
    "class ProgrammerMusician(Programmer,Musician):\n",
    "    pass\n",
    "\n",
    "pm1 = ProgrammerMusician()\n",
    "pm1.make_code()\n",
    "pm1.play_instrument()"
   ]
  },
  {
   "cell_type": "code",
   "execution_count": 17,
   "metadata": {},
   "outputs": [],
   "source": [
    "class katsuo(Nigiri):\n",
    "    top = \"かつお\"\n",
    "    toppingu = \"ショウガとネギ\"\n",
    "    price = 100\n",
    "\n",
    "    def show_attributes(self):\n",
    "        super().show_attributes()\n",
    "        print(\"topping: {}\".format(self.topping))"
   ]
  },
  {
   "cell_type": "code",
   "execution_count": 18,
   "metadata": {
    "tags": []
   },
   "outputs": [
    {
     "output_type": "stream",
     "name": "stdout",
     "text": "top: かつお,base: しゃり,category: にぎり\n"
    },
    {
     "output_type": "error",
     "ename": "AttributeError",
     "evalue": "'katsuo' object has no attribute 'topping'",
     "traceback": [
      "\u001b[1;31m---------------------------------------------------------------------------\u001b[0m",
      "\u001b[1;31mAttributeError\u001b[0m                            Traceback (most recent call last)",
      "\u001b[1;32m<ipython-input-18-83d41012d7fb>\u001b[0m in \u001b[0;36m<module>\u001b[1;34m\u001b[0m\n\u001b[0;32m      1\u001b[0m \u001b[0mk1\u001b[0m \u001b[1;33m=\u001b[0m \u001b[0mkatsuo\u001b[0m\u001b[1;33m(\u001b[0m\u001b[1;33m)\u001b[0m\u001b[1;33m\u001b[0m\u001b[1;33m\u001b[0m\u001b[0m\n\u001b[1;32m----> 2\u001b[1;33m \u001b[0mk1\u001b[0m\u001b[1;33m.\u001b[0m\u001b[0mshow_attributes\u001b[0m\u001b[1;33m(\u001b[0m\u001b[1;33m)\u001b[0m\u001b[1;33m\u001b[0m\u001b[1;33m\u001b[0m\u001b[0m\n\u001b[0m",
      "\u001b[1;32m<ipython-input-17-ae37d70b5b5d>\u001b[0m in \u001b[0;36mshow_attributes\u001b[1;34m(self)\u001b[0m\n\u001b[0;32m      6\u001b[0m     \u001b[1;32mdef\u001b[0m \u001b[0mshow_attributes\u001b[0m\u001b[1;33m(\u001b[0m\u001b[0mself\u001b[0m\u001b[1;33m)\u001b[0m\u001b[1;33m:\u001b[0m\u001b[1;33m\u001b[0m\u001b[1;33m\u001b[0m\u001b[0m\n\u001b[0;32m      7\u001b[0m         \u001b[0msuper\u001b[0m\u001b[1;33m(\u001b[0m\u001b[1;33m)\u001b[0m\u001b[1;33m.\u001b[0m\u001b[0mshow_attributes\u001b[0m\u001b[1;33m(\u001b[0m\u001b[1;33m)\u001b[0m\u001b[1;33m\u001b[0m\u001b[1;33m\u001b[0m\u001b[0m\n\u001b[1;32m----> 8\u001b[1;33m         \u001b[0mprint\u001b[0m\u001b[1;33m(\u001b[0m\u001b[1;34m\"topping: {}\"\u001b[0m\u001b[1;33m.\u001b[0m\u001b[0mformat\u001b[0m\u001b[1;33m(\u001b[0m\u001b[0mself\u001b[0m\u001b[1;33m.\u001b[0m\u001b[0mtopping\u001b[0m\u001b[1;33m)\u001b[0m\u001b[1;33m)\u001b[0m\u001b[1;33m\u001b[0m\u001b[1;33m\u001b[0m\u001b[0m\n\u001b[0m",
      "\u001b[1;31mAttributeError\u001b[0m: 'katsuo' object has no attribute 'topping'"
     ]
    }
   ],
   "source": [
    "k1 = katsuo()\n",
    "k1.show_attributes()"
   ]
  },
  {
   "cell_type": "code",
   "execution_count": 20,
   "metadata": {},
   "outputs": [
    {
     "output_type": "error",
     "ename": "SyntaxError",
     "evalue": "invalid syntax (<ipython-input-20-2b4f9b2862f7>, line 33)",
     "traceback": [
      "\u001b[1;36m  File \u001b[1;32m\"<ipython-input-20-2b4f9b2862f7>\"\u001b[1;36m, line \u001b[1;32m33\u001b[0m\n\u001b[1;33m    r1 = Rectangle(4, 3)\u001b[0m\n\u001b[1;37m    ^\u001b[0m\n\u001b[1;31mSyntaxError\u001b[0m\u001b[1;31m:\u001b[0m invalid syntax\n"
     ]
    }
   ],
   "source": [
    "class Rectangle:\n",
    "    '''長方形'''\n",
    "    angle = 90\n",
    "\n",
    "    def __init__(self, width, height):\n",
    "        self.name = 'rectangle'\n",
    "        self.width = width\n",
    "        self.height = height\n",
    "        self.perimeter = self.calc_perimeter()\n",
    "        self.area = self.calc_area()\n",
    "\n",
    "    def calc_perimeter(self):\n",
    "        w = self.width\n",
    "        h = self.height\n",
    "        return (w + h) * 2\n",
    "\n",
    "    def calc_area(self):\n",
    "        w = self.width\n",
    "        h = self.height\n",
    "        return w * h\n",
    "    \n",
    "    def show_attributes(self):\n",
    "        ang = self.angle\n",
    "        n = self.name\n",
    "        w = self.width\n",
    "        h = self.height\n",
    "        p = self.perimeter\n",
    "        a =self.area\n",
    "        print(\"name: {},width: {},height: {},angle: {}\".format(n,w,h,ang))\n",
    "        print(\"perimeter: {},area: {}\".format(p, a)\n",
    "        \n",
    "# インスタンスを作って実行\n",
    "r1 = Rrectangle(4, 3)\n",
    "r1.show_attributes()\n"
   ]
  },
  {
   "cell_type": "code",
   "execution_count": 21,
   "metadata": {},
   "outputs": [],
   "source": [
    "class Square(Rectangle):\n",
    "    '''正方形'''\n",
    "\n",
    "    def __init__(self, width):\n",
    "        super().__init__(width,width)\n",
    "        self.name = 'square'"
   ]
  },
  {
   "cell_type": "code",
   "execution_count": 22,
   "metadata": {},
   "outputs": [
    {
     "output_type": "error",
     "ename": "AttributeError",
     "evalue": "'Square' object has no attribute 'calc_perimeter'",
     "traceback": [
      "\u001b[1;31m---------------------------------------------------------------------------\u001b[0m",
      "\u001b[1;31mAttributeError\u001b[0m                            Traceback (most recent call last)",
      "\u001b[1;32m<ipython-input-22-f52a4eda859f>\u001b[0m in \u001b[0;36m<module>\u001b[1;34m\u001b[0m\n\u001b[1;32m----> 1\u001b[1;33m \u001b[0ms1\u001b[0m \u001b[1;33m=\u001b[0m \u001b[0mSquare\u001b[0m\u001b[1;33m(\u001b[0m\u001b[1;36m4\u001b[0m\u001b[1;33m)\u001b[0m\u001b[1;33m\u001b[0m\u001b[1;33m\u001b[0m\u001b[0m\n\u001b[0m\u001b[0;32m      2\u001b[0m \u001b[0ms1\u001b[0m\u001b[1;33m.\u001b[0m\u001b[0mshow_attributes\u001b[0m\u001b[1;33m(\u001b[0m\u001b[1;33m)\u001b[0m\u001b[1;33m\u001b[0m\u001b[1;33m\u001b[0m\u001b[0m\n",
      "\u001b[1;32m<ipython-input-21-745e9a882963>\u001b[0m in \u001b[0;36m__init__\u001b[1;34m(self, width)\u001b[0m\n\u001b[0;32m      3\u001b[0m \u001b[1;33m\u001b[0m\u001b[0m\n\u001b[0;32m      4\u001b[0m     \u001b[1;32mdef\u001b[0m \u001b[0m__init__\u001b[0m\u001b[1;33m(\u001b[0m\u001b[0mself\u001b[0m\u001b[1;33m,\u001b[0m \u001b[0mwidth\u001b[0m\u001b[1;33m)\u001b[0m\u001b[1;33m:\u001b[0m\u001b[1;33m\u001b[0m\u001b[1;33m\u001b[0m\u001b[0m\n\u001b[1;32m----> 5\u001b[1;33m         \u001b[0msuper\u001b[0m\u001b[1;33m(\u001b[0m\u001b[1;33m)\u001b[0m\u001b[1;33m.\u001b[0m\u001b[0m__init__\u001b[0m\u001b[1;33m(\u001b[0m\u001b[0mwidth\u001b[0m\u001b[1;33m,\u001b[0m\u001b[0mwidth\u001b[0m\u001b[1;33m)\u001b[0m\u001b[1;33m\u001b[0m\u001b[1;33m\u001b[0m\u001b[0m\n\u001b[0m\u001b[0;32m      6\u001b[0m         \u001b[0mself\u001b[0m\u001b[1;33m.\u001b[0m\u001b[0mname\u001b[0m \u001b[1;33m=\u001b[0m \u001b[1;34m'square'\u001b[0m\u001b[1;33m\u001b[0m\u001b[1;33m\u001b[0m\u001b[0m\n",
      "\u001b[1;32m<ipython-input-19-cf777211b8dd>\u001b[0m in \u001b[0;36m__init__\u001b[1;34m(self, width, height)\u001b[0m\n\u001b[0;32m      7\u001b[0m         \u001b[0mself\u001b[0m\u001b[1;33m.\u001b[0m\u001b[0mwidth\u001b[0m \u001b[1;33m=\u001b[0m \u001b[0mwidth\u001b[0m\u001b[1;33m\u001b[0m\u001b[1;33m\u001b[0m\u001b[0m\n\u001b[0;32m      8\u001b[0m         \u001b[0mself\u001b[0m\u001b[1;33m.\u001b[0m\u001b[0mheight\u001b[0m \u001b[1;33m=\u001b[0m \u001b[0mheight\u001b[0m\u001b[1;33m\u001b[0m\u001b[1;33m\u001b[0m\u001b[0m\n\u001b[1;32m----> 9\u001b[1;33m         \u001b[0mself\u001b[0m\u001b[1;33m.\u001b[0m\u001b[0mperimeter\u001b[0m \u001b[1;33m=\u001b[0m \u001b[0mself\u001b[0m\u001b[1;33m.\u001b[0m\u001b[0mcalc_perimeter\u001b[0m\u001b[1;33m(\u001b[0m\u001b[1;33m)\u001b[0m\u001b[1;33m\u001b[0m\u001b[1;33m\u001b[0m\u001b[0m\n\u001b[0m\u001b[0;32m     10\u001b[0m         \u001b[0mself\u001b[0m\u001b[1;33m.\u001b[0m\u001b[0marea\u001b[0m \u001b[1;33m=\u001b[0m \u001b[0mself\u001b[0m\u001b[1;33m.\u001b[0m\u001b[0mcalc_area\u001b[0m\u001b[1;33m(\u001b[0m\u001b[1;33m)\u001b[0m\u001b[1;33m\u001b[0m\u001b[1;33m\u001b[0m\u001b[0m\n",
      "\u001b[1;31mAttributeError\u001b[0m: 'Square' object has no attribute 'calc_perimeter'"
     ]
    }
   ],
   "source": [
    "s1 = Square(4)\n",
    "s1.show_attributes()"
   ]
  },
  {
   "cell_type": "code",
   "execution_count": 24,
   "metadata": {},
   "outputs": [
    {
     "output_type": "error",
     "ename": "AttributeError",
     "evalue": "'Square' object has no attribute 'calc_perimeter'",
     "traceback": [
      "\u001b[1;31m---------------------------------------------------------------------------\u001b[0m",
      "\u001b[1;31mAttributeError\u001b[0m                            Traceback (most recent call last)",
      "\u001b[1;32m<ipython-input-24-88948884a590>\u001b[0m in \u001b[0;36m<module>\u001b[1;34m\u001b[0m\n\u001b[0;32m      9\u001b[0m \u001b[1;33m\u001b[0m\u001b[0m\n\u001b[0;32m     10\u001b[0m \u001b[1;33m\u001b[0m\u001b[0m\n\u001b[1;32m---> 11\u001b[1;33m \u001b[0ms2\u001b[0m \u001b[1;33m=\u001b[0m \u001b[0mSquare\u001b[0m\u001b[1;33m(\u001b[0m\u001b[1;36m4\u001b[0m\u001b[1;33m)\u001b[0m\u001b[1;33m\u001b[0m\u001b[1;33m\u001b[0m\u001b[0m\n\u001b[0m\u001b[0;32m     12\u001b[0m \u001b[0ms2\u001b[0m\u001b[1;33m.\u001b[0m\u001b[0mshow_attributes\u001b[0m\u001b[1;33m(\u001b[0m\u001b[1;33m)\u001b[0m\u001b[1;33m\u001b[0m\u001b[1;33m\u001b[0m\u001b[0m\n",
      "\u001b[1;32m<ipython-input-24-88948884a590>\u001b[0m in \u001b[0;36m__init__\u001b[1;34m(self, width)\u001b[0m\n\u001b[0;32m      5\u001b[0m         \u001b[0mself\u001b[0m\u001b[1;33m.\u001b[0m\u001b[0mwidth\u001b[0m \u001b[1;33m=\u001b[0m \u001b[0mwidth\u001b[0m\u001b[1;33m\u001b[0m\u001b[1;33m\u001b[0m\u001b[0m\n\u001b[0;32m      6\u001b[0m         \u001b[0mself\u001b[0m\u001b[1;33m.\u001b[0m\u001b[0mheight\u001b[0m \u001b[1;33m=\u001b[0m \u001b[0mwidth\u001b[0m\u001b[1;33m\u001b[0m\u001b[1;33m\u001b[0m\u001b[0m\n\u001b[1;32m----> 7\u001b[1;33m         \u001b[0mself\u001b[0m\u001b[1;33m.\u001b[0m\u001b[0mperimeter\u001b[0m \u001b[1;33m=\u001b[0m \u001b[0mself\u001b[0m\u001b[1;33m.\u001b[0m\u001b[0mcalc_perimeter\u001b[0m\u001b[1;33m(\u001b[0m\u001b[1;33m)\u001b[0m\u001b[1;33m\u001b[0m\u001b[1;33m\u001b[0m\u001b[0m\n\u001b[0m\u001b[0;32m      8\u001b[0m         \u001b[0mself\u001b[0m\u001b[1;33m.\u001b[0m\u001b[0marea\u001b[0m \u001b[1;33m=\u001b[0m \u001b[0mself\u001b[0m\u001b[1;33m.\u001b[0m\u001b[0mcalc_area\u001b[0m\u001b[1;33m(\u001b[0m\u001b[1;33m)\u001b[0m\u001b[1;33m\u001b[0m\u001b[1;33m\u001b[0m\u001b[0m\n\u001b[0;32m      9\u001b[0m \u001b[1;33m\u001b[0m\u001b[0m\n",
      "\u001b[1;31mAttributeError\u001b[0m: 'Square' object has no attribute 'calc_perimeter'"
     ]
    }
   ],
   "source": [
    "class Square(Rectangle):\n",
    "\n",
    "    def __init__(self,width):\n",
    "        self.name ='square'\n",
    "        self.width = width\n",
    "        self.height = width\n",
    "        self.perimeter = self.calc_perimeter()\n",
    "        self.area = self.calc_area()\n",
    "\n",
    "\n",
    "s2 = Square(4)\n",
    "s2.show_attributes()"
   ]
  },
  {
   "cell_type": "code",
   "execution_count": null,
   "metadata": {},
   "outputs": [],
   "source": []
  }
 ]
}